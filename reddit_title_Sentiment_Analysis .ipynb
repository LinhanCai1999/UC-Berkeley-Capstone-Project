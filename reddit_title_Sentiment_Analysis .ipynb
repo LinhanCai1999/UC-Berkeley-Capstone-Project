{
 "cells": [
  {
   "cell_type": "code",
   "execution_count": 1,
   "id": "c88019a2",
   "metadata": {},
   "outputs": [],
   "source": [
    "import pandas as pd\n",
    "import numpy as np\n",
    "\n",
    "# misc\n",
    "import datetime as dt\n",
    "from pprint import pprint\n",
    "from itertools import chain\n",
    "\n",
    "\n",
    "\n",
    "# sentiment analysis\n",
    "import nltk\n",
    "from nltk.sentiment.vader import SentimentIntensityAnalyzer\n",
    "from nltk.tokenize import word_tokenize, RegexpTokenizer # tokenize words\n",
    "from nltk.corpus import stopwords\n",
    "\n",
    "# visualization\n",
    "import matplotlib.pyplot as plt\n",
    "%matplotlib inline\n",
    "plt.rcParams[\"figure.figsize\"] = (10, 8) # default plot size\n",
    "import seaborn as sns\n",
    "sns.set(style='whitegrid', palette='Dark2')\n",
    "from wordcloud import WordCloud"
   ]
  },
  {
   "cell_type": "code",
   "execution_count": 2,
   "id": "5cebd10c",
   "metadata": {},
   "outputs": [
    {
     "name": "stderr",
     "output_type": "stream",
     "text": [
      "[nltk_data] Downloading package vader_lexicon to C:\\Users\\Su\n",
      "[nltk_data]     Yunhua\\AppData\\Roaming\\nltk_data...\n",
      "[nltk_data]   Package vader_lexicon is already up-to-date!\n",
      "[nltk_data] Downloading package punkt to C:\\Users\\Su\n",
      "[nltk_data]     Yunhua\\AppData\\Roaming\\nltk_data...\n",
      "[nltk_data]   Package punkt is already up-to-date!\n",
      "[nltk_data] Downloading package stopwords to C:\\Users\\Su\n",
      "[nltk_data]     Yunhua\\AppData\\Roaming\\nltk_data...\n",
      "[nltk_data]   Package stopwords is already up-to-date!\n"
     ]
    },
    {
     "data": {
      "text/plain": [
       "True"
      ]
     },
     "execution_count": 2,
     "metadata": {},
     "output_type": "execute_result"
    }
   ],
   "source": [
    "nltk.download('vader_lexicon') # get lexicons data\n",
    "nltk.download('punkt') # for tokenizer\n",
    "nltk.download('stopwords')"
   ]
  },
  {
   "cell_type": "code",
   "execution_count": 4,
   "id": "5c986d25",
   "metadata": {},
   "outputs": [
    {
     "name": "stdout",
     "output_type": "stream",
     "text": [
      "991\n"
     ]
    }
   ],
   "source": [
    "#bitcoin=titles of all post\n",
    "print(len(bitcoin))"
   ]
  },
  {
   "cell_type": "code",
   "execution_count": 6,
   "id": "249d5259",
   "metadata": {},
   "outputs": [
    {
     "name": "stdout",
     "output_type": "stream",
     "text": [
      "It's official! 1 Bitcoin = $10,000 USD\n",
      "48607\n",
      "1511918724.0\n",
      "2017-11-28 17:25:24\n",
      "4436\n",
      "0.81\n",
      "27\n"
     ]
    }
   ],
   "source": [
    "bitcoin0 = bitcoin[0]\n",
    "\n",
    "# pprint(vars(news0)) \n",
    "print(bitcoin0.title) # headline\n",
    "print(bitcoin0.score) # upvotes\n",
    "print(bitcoin0.created) # UNIX timestamps \n",
    "print(dt.datetime.fromtimestamp(bitcoin0.created)) # date and time\n",
    "print(bitcoin0.num_comments) # no. of comments\n",
    "print(bitcoin0.upvote_ratio) # upvote / total votes\n",
    "print(bitcoin0.total_awards_received) # no. of awards given"
   ]
  },
  {
   "cell_type": "code",
   "execution_count": 7,
   "id": "90adeecb",
   "metadata": {},
   "outputs": [],
   "source": [
    "# create lists of the information from each post\n",
    "title = [bitcoin.title for bitcoin in bitcoin]"
   ]
  },
  {
   "cell_type": "code",
   "execution_count": 24,
   "id": "102d1566",
   "metadata": {},
   "outputs": [
    {
     "ename": "AttributeError",
     "evalue": "'str' object has no attribute 'created_utc'",
     "output_type": "error",
     "traceback": [
      "\u001b[1;31m---------------------------------------------------------------------------\u001b[0m",
      "\u001b[1;31mAttributeError\u001b[0m                            Traceback (most recent call last)",
      "Input \u001b[1;32mIn [24]\u001b[0m, in \u001b[0;36m<cell line: 1>\u001b[1;34m()\u001b[0m\n\u001b[1;32m----> 1\u001b[0m data \u001b[38;5;241m=\u001b[39m [[dt\u001b[38;5;241m.\u001b[39mdatetime\u001b[38;5;241m.\u001b[39mfromtimestamp(bitcoin\u001b[38;5;241m.\u001b[39mcreated_utc), bitcoin\u001b[38;5;241m.\u001b[39mtitle] \u001b[38;5;28;01mfor\u001b[39;00m bitcoin \u001b[38;5;129;01min\u001b[39;00m bitcoin] \n\u001b[0;32m      3\u001b[0m df \u001b[38;5;241m=\u001b[39m pd\u001b[38;5;241m.\u001b[39mDataFrame(data, columns\u001b[38;5;241m=\u001b[39m[\u001b[38;5;124m'\u001b[39m\u001b[38;5;124mDate\u001b[39m\u001b[38;5;124m'\u001b[39m, \u001b[38;5;124m'\u001b[39m\u001b[38;5;124mTitle\u001b[39m\u001b[38;5;124m'\u001b[39m])\n\u001b[0;32m      5\u001b[0m \u001b[38;5;28mprint\u001b[39m(df)\n",
      "Input \u001b[1;32mIn [24]\u001b[0m, in \u001b[0;36m<listcomp>\u001b[1;34m(.0)\u001b[0m\n\u001b[1;32m----> 1\u001b[0m data \u001b[38;5;241m=\u001b[39m [[dt\u001b[38;5;241m.\u001b[39mdatetime\u001b[38;5;241m.\u001b[39mfromtimestamp(\u001b[43mbitcoin\u001b[49m\u001b[38;5;241;43m.\u001b[39;49m\u001b[43mcreated_utc\u001b[49m), bitcoin\u001b[38;5;241m.\u001b[39mtitle] \u001b[38;5;28;01mfor\u001b[39;00m bitcoin \u001b[38;5;129;01min\u001b[39;00m bitcoin] \n\u001b[0;32m      3\u001b[0m df \u001b[38;5;241m=\u001b[39m pd\u001b[38;5;241m.\u001b[39mDataFrame(data, columns\u001b[38;5;241m=\u001b[39m[\u001b[38;5;124m'\u001b[39m\u001b[38;5;124mDate\u001b[39m\u001b[38;5;124m'\u001b[39m, \u001b[38;5;124m'\u001b[39m\u001b[38;5;124mTitle\u001b[39m\u001b[38;5;124m'\u001b[39m])\n\u001b[0;32m      5\u001b[0m \u001b[38;5;28mprint\u001b[39m(df)\n",
      "\u001b[1;31mAttributeError\u001b[0m: 'str' object has no attribute 'created_utc'"
     ]
    }
   ],
   "source": [
    "data = [[dt.datetime.fromtimestamp(bitcoin.created_utc), bitcoin.title] for bitcoin in bitcoin] \n",
    "\n",
    "df = pd.DataFrame(data, columns=['Date', 'Title'])\n",
    "\n",
    "print(df)"
   ]
  },
  {
   "cell_type": "code",
   "execution_count": 19,
   "id": "a255f660",
   "metadata": {},
   "outputs": [
    {
     "ename": "AttributeError",
     "evalue": "'str' object has no attribute 'created'",
     "output_type": "error",
     "traceback": [
      "\u001b[1;31m---------------------------------------------------------------------------\u001b[0m",
      "\u001b[1;31mAttributeError\u001b[0m                            Traceback (most recent call last)",
      "Input \u001b[1;32mIn [19]\u001b[0m, in \u001b[0;36m<cell line: 1>\u001b[1;34m()\u001b[0m\n\u001b[1;32m----> 1\u001b[0m date \u001b[38;5;241m=\u001b[39m [bitcoin\u001b[38;5;241m.\u001b[39mcreated \u001b[38;5;28;01mfor\u001b[39;00m bitcoin \u001b[38;5;129;01min\u001b[39;00m bitcoin]\n",
      "Input \u001b[1;32mIn [19]\u001b[0m, in \u001b[0;36m<listcomp>\u001b[1;34m(.0)\u001b[0m\n\u001b[1;32m----> 1\u001b[0m date \u001b[38;5;241m=\u001b[39m [\u001b[43mbitcoin\u001b[49m\u001b[38;5;241;43m.\u001b[39;49m\u001b[43mcreated\u001b[49m \u001b[38;5;28;01mfor\u001b[39;00m bitcoin \u001b[38;5;129;01min\u001b[39;00m bitcoin]\n",
      "\u001b[1;31mAttributeError\u001b[0m: 'str' object has no attribute 'created'"
     ]
    }
   ],
   "source": [
    "date = [bitcoin.created for bitcoin in bitcoin]"
   ]
  },
  {
   "cell_type": "code",
   "execution_count": 8,
   "id": "bbb4562e",
   "metadata": {},
   "outputs": [
    {
     "data": {
      "text/html": [
       "<div>\n",
       "<style scoped>\n",
       "    .dataframe tbody tr th:only-of-type {\n",
       "        vertical-align: middle;\n",
       "    }\n",
       "\n",
       "    .dataframe tbody tr th {\n",
       "        vertical-align: top;\n",
       "    }\n",
       "\n",
       "    .dataframe thead th {\n",
       "        text-align: right;\n",
       "    }\n",
       "</style>\n",
       "<table border=\"1\" class=\"dataframe\">\n",
       "  <thead>\n",
       "    <tr style=\"text-align: right;\">\n",
       "      <th></th>\n",
       "      <th>title</th>\n",
       "    </tr>\n",
       "  </thead>\n",
       "  <tbody>\n",
       "    <tr>\n",
       "      <th>0</th>\n",
       "      <td>It's official! 1 Bitcoin = $10,000 USD</td>\n",
       "    </tr>\n",
       "    <tr>\n",
       "      <th>1</th>\n",
       "      <td>The last 3 months in 47 seconds.</td>\n",
       "    </tr>\n",
       "    <tr>\n",
       "      <th>2</th>\n",
       "      <td>Tesla buys $1.5b in Bitcoin and is looking to ...</td>\n",
       "    </tr>\n",
       "    <tr>\n",
       "      <th>3</th>\n",
       "      <td>It's over 9000!!!</td>\n",
       "    </tr>\n",
       "    <tr>\n",
       "      <th>4</th>\n",
       "      <td>Everyone who's trading BTC right now</td>\n",
       "    </tr>\n",
       "  </tbody>\n",
       "</table>\n",
       "</div>"
      ],
      "text/plain": [
       "                                               title\n",
       "0             It's official! 1 Bitcoin = $10,000 USD\n",
       "1                   The last 3 months in 47 seconds.\n",
       "2  Tesla buys $1.5b in Bitcoin and is looking to ...\n",
       "3                                  It's over 9000!!!\n",
       "4               Everyone who's trading BTC right now"
      ]
     },
     "execution_count": 8,
     "metadata": {},
     "output_type": "execute_result"
    }
   ],
   "source": [
    "bitcoin = pd.DataFrame({\n",
    "    \"title\": title,\n",
    "})\n",
    "bitcoin.head()"
   ]
  },
  {
   "cell_type": "code",
   "execution_count": 9,
   "id": "fd88f12d",
   "metadata": {},
   "outputs": [
    {
     "name": "stdout",
     "output_type": "stream",
     "text": [
      "{'neg': 0.0, 'neu': 0.328, 'pos': 0.672, 'compound': 0.6249}\n",
      "{'neg': 0.0, 'neu': 0.281, 'pos': 0.719, 'compound': 0.729}\n",
      "{'neg': 0.636, 'neu': 0.364, 'pos': 0.0, 'compound': -0.5423}\n"
     ]
    }
   ],
   "source": [
    "sid = SentimentIntensityAnalyzer()\n",
    "\n",
    "pos_text = \"Vader is awesome\"\n",
    "cap_pos_text = \"Vader is AWESOME!\" # captilization and ! increases the effect\n",
    "neg_text = \"Vader is bad\"\n",
    "\n",
    "print(sid.polarity_scores(pos_text))\n",
    "print(sid.polarity_scores(cap_pos_text))\n",
    "print(sid.polarity_scores(neg_text))"
   ]
  },
  {
   "cell_type": "code",
   "execution_count": 11,
   "id": "bd2e9a86",
   "metadata": {},
   "outputs": [
    {
     "name": "stdout",
     "output_type": "stream",
     "text": [
      "[{'compound': 0.0, 'neg': 0.0, 'neu': 1.0, 'pos': 0.0},\n",
      " {'compound': 0.0, 'neg': 0.0, 'neu': 1.0, 'pos': 0.0},\n",
      " {'compound': 0.3818, 'neg': 0.0, 'neu': 0.88, 'pos': 0.12}]\n"
     ]
    }
   ],
   "source": [
    "res = [*bitcoin['title'].apply(sid.polarity_scores)]\n",
    "pprint(res[:3])"
   ]
  },
  {
   "cell_type": "code",
   "execution_count": 12,
   "id": "42a6fb2b",
   "metadata": {},
   "outputs": [
    {
     "data": {
      "text/html": [
       "<div>\n",
       "<style scoped>\n",
       "    .dataframe tbody tr th:only-of-type {\n",
       "        vertical-align: middle;\n",
       "    }\n",
       "\n",
       "    .dataframe tbody tr th {\n",
       "        vertical-align: top;\n",
       "    }\n",
       "\n",
       "    .dataframe thead th {\n",
       "        text-align: right;\n",
       "    }\n",
       "</style>\n",
       "<table border=\"1\" class=\"dataframe\">\n",
       "  <thead>\n",
       "    <tr style=\"text-align: right;\">\n",
       "      <th></th>\n",
       "      <th>title</th>\n",
       "      <th>neg</th>\n",
       "      <th>neu</th>\n",
       "      <th>pos</th>\n",
       "      <th>compound</th>\n",
       "    </tr>\n",
       "  </thead>\n",
       "  <tbody>\n",
       "    <tr>\n",
       "      <th>0</th>\n",
       "      <td>It's official! 1 Bitcoin = $10,000 USD</td>\n",
       "      <td>0.0</td>\n",
       "      <td>1.00</td>\n",
       "      <td>0.00</td>\n",
       "      <td>0.0000</td>\n",
       "    </tr>\n",
       "    <tr>\n",
       "      <th>1</th>\n",
       "      <td>The last 3 months in 47 seconds.</td>\n",
       "      <td>0.0</td>\n",
       "      <td>1.00</td>\n",
       "      <td>0.00</td>\n",
       "      <td>0.0000</td>\n",
       "    </tr>\n",
       "    <tr>\n",
       "      <th>2</th>\n",
       "      <td>Tesla buys $1.5b in Bitcoin and is looking to ...</td>\n",
       "      <td>0.0</td>\n",
       "      <td>0.88</td>\n",
       "      <td>0.12</td>\n",
       "      <td>0.3818</td>\n",
       "    </tr>\n",
       "    <tr>\n",
       "      <th>3</th>\n",
       "      <td>It's over 9000!!!</td>\n",
       "      <td>0.0</td>\n",
       "      <td>1.00</td>\n",
       "      <td>0.00</td>\n",
       "      <td>0.0000</td>\n",
       "    </tr>\n",
       "    <tr>\n",
       "      <th>4</th>\n",
       "      <td>Everyone who's trading BTC right now</td>\n",
       "      <td>0.0</td>\n",
       "      <td>1.00</td>\n",
       "      <td>0.00</td>\n",
       "      <td>0.0000</td>\n",
       "    </tr>\n",
       "  </tbody>\n",
       "</table>\n",
       "</div>"
      ],
      "text/plain": [
       "                                               title  neg   neu   pos  \\\n",
       "0             It's official! 1 Bitcoin = $10,000 USD  0.0  1.00  0.00   \n",
       "1                   The last 3 months in 47 seconds.  0.0  1.00  0.00   \n",
       "2  Tesla buys $1.5b in Bitcoin and is looking to ...  0.0  0.88  0.12   \n",
       "3                                  It's over 9000!!!  0.0  1.00  0.00   \n",
       "4               Everyone who's trading BTC right now  0.0  1.00  0.00   \n",
       "\n",
       "   compound  \n",
       "0    0.0000  \n",
       "1    0.0000  \n",
       "2    0.3818  \n",
       "3    0.0000  \n",
       "4    0.0000  "
      ]
     },
     "execution_count": 12,
     "metadata": {},
     "output_type": "execute_result"
    }
   ],
   "source": [
    "sentiment_df = pd.DataFrame.from_records(res)\n",
    "bitcoin = pd.concat([bitcoin, sentiment_df], axis=1, join='inner')\n",
    "bitcoin.head()"
   ]
  },
  {
   "cell_type": "code",
   "execution_count": 15,
   "id": "5d65d247",
   "metadata": {},
   "outputs": [
    {
     "data": {
      "text/html": [
       "<div>\n",
       "<style scoped>\n",
       "    .dataframe tbody tr th:only-of-type {\n",
       "        vertical-align: middle;\n",
       "    }\n",
       "\n",
       "    .dataframe tbody tr th {\n",
       "        vertical-align: top;\n",
       "    }\n",
       "\n",
       "    .dataframe thead th {\n",
       "        text-align: right;\n",
       "    }\n",
       "</style>\n",
       "<table border=\"1\" class=\"dataframe\">\n",
       "  <thead>\n",
       "    <tr style=\"text-align: right;\">\n",
       "      <th></th>\n",
       "      <th>title</th>\n",
       "      <th>neg</th>\n",
       "      <th>neu</th>\n",
       "      <th>pos</th>\n",
       "      <th>compound</th>\n",
       "      <th>label</th>\n",
       "    </tr>\n",
       "  </thead>\n",
       "  <tbody>\n",
       "    <tr>\n",
       "      <th>0</th>\n",
       "      <td>It's official! 1 Bitcoin = $10,000 USD</td>\n",
       "      <td>0.0</td>\n",
       "      <td>1.00</td>\n",
       "      <td>0.00</td>\n",
       "      <td>0.0000</td>\n",
       "      <td>neu</td>\n",
       "    </tr>\n",
       "    <tr>\n",
       "      <th>1</th>\n",
       "      <td>The last 3 months in 47 seconds.</td>\n",
       "      <td>0.0</td>\n",
       "      <td>1.00</td>\n",
       "      <td>0.00</td>\n",
       "      <td>0.0000</td>\n",
       "      <td>neu</td>\n",
       "    </tr>\n",
       "    <tr>\n",
       "      <th>2</th>\n",
       "      <td>Tesla buys $1.5b in Bitcoin and is looking to ...</td>\n",
       "      <td>0.0</td>\n",
       "      <td>0.88</td>\n",
       "      <td>0.12</td>\n",
       "      <td>0.3818</td>\n",
       "      <td>pos</td>\n",
       "    </tr>\n",
       "    <tr>\n",
       "      <th>3</th>\n",
       "      <td>It's over 9000!!!</td>\n",
       "      <td>0.0</td>\n",
       "      <td>1.00</td>\n",
       "      <td>0.00</td>\n",
       "      <td>0.0000</td>\n",
       "      <td>neu</td>\n",
       "    </tr>\n",
       "    <tr>\n",
       "      <th>4</th>\n",
       "      <td>Everyone who's trading BTC right now</td>\n",
       "      <td>0.0</td>\n",
       "      <td>1.00</td>\n",
       "      <td>0.00</td>\n",
       "      <td>0.0000</td>\n",
       "      <td>neu</td>\n",
       "    </tr>\n",
       "  </tbody>\n",
       "</table>\n",
       "</div>"
      ],
      "text/plain": [
       "                                               title  neg   neu   pos  \\\n",
       "0             It's official! 1 Bitcoin = $10,000 USD  0.0  1.00  0.00   \n",
       "1                   The last 3 months in 47 seconds.  0.0  1.00  0.00   \n",
       "2  Tesla buys $1.5b in Bitcoin and is looking to ...  0.0  0.88  0.12   \n",
       "3                                  It's over 9000!!!  0.0  1.00  0.00   \n",
       "4               Everyone who's trading BTC right now  0.0  1.00  0.00   \n",
       "\n",
       "   compound label  \n",
       "0    0.0000   neu  \n",
       "1    0.0000   neu  \n",
       "2    0.3818   pos  \n",
       "3    0.0000   neu  \n",
       "4    0.0000   neu  "
      ]
     },
     "execution_count": 15,
     "metadata": {},
     "output_type": "execute_result"
    }
   ],
   "source": [
    "THRESHOLD = 0.2\n",
    "\n",
    "conditions = [\n",
    "    (bitcoin['compound'] <= -THRESHOLD),\n",
    "    (bitcoin['compound'] > -THRESHOLD) & (bitcoin['compound'] < THRESHOLD),\n",
    "    (bitcoin['compound'] >= THRESHOLD),\n",
    "    ]\n",
    "\n",
    "values = [\"neg\", \"neu\", \"pos\"]\n",
    "bitcoin['label'] = np.select(conditions, values)\n",
    "\n",
    "bitcoin.head()"
   ]
  },
  {
   "cell_type": "code",
   "execution_count": null,
   "id": "2d3b8a05",
   "metadata": {},
   "outputs": [],
   "source": [
    "sentence0 = news.title.iloc[0]\n",
    "print(sentence0)\n",
    "words0 = news.title.iloc[0].split()\n",
    "print(words0)\n",
    "\n",
    "pos_list, neg_list, neu_list = [], [], []\n",
    "\n",
    "for word in words0:\n",
    "  if (sid.polarity_scores(word)['compound']) >= THRESHOLD:\n",
    "    pos_list.append(word)\n",
    "  elif (sid.polarity_scores(word)['compound']) <= -THRESHOLD:\n",
    "    neg_list.append(word)\n",
    "  else:\n",
    "    neu_list.append(word)                \n",
    "\n",
    "print('\\nPositive:',pos_list)        \n",
    "print('Neutral:',neu_list)    \n",
    "print('Negative:',neg_list) \n",
    "score = sid.polarity_scores(sentence0)\n",
    "\n",
    "print(f\"\\nThis sentence is {round(score['neg'] * 100, 2)}% negative\")\n",
    "print(f\"This sentence is {round(score['neu'] * 100, 2)}% neutral\")\n",
    "print(f\"This sentence is {round(score['pos'] * 100, 2)}% positive\")\n",
    "print(f\"The compound value : {score['compound']} <= {-THRESHOLD}\")\n",
    "print(f\"\\nThis sentence is NEGATIVE\")\n",
    "\n",
    "# source https://stackoverflow.com/a/51515048/11386747"
   ]
  },
  {
   "cell_type": "code",
   "execution_count": null,
   "id": "78e8016e",
   "metadata": {},
   "outputs": [],
   "source": [
    "news.label.value_counts()"
   ]
  },
  {
   "cell_type": "code",
   "execution_count": null,
   "id": "701e52e3",
   "metadata": {},
   "outputs": [],
   "source": [
    "sns.histplot(news.label);"
   ]
  },
  {
   "cell_type": "code",
   "execution_count": null,
   "id": "87d18bac",
   "metadata": {},
   "outputs": [],
   "source": [
    "def news_title_output(df, label):\n",
    "  res = df[df['label'] == label].title.values\n",
    "  print(f'{\"=\" * 20}')\n",
    "  print(\"\\n\".join(title for title in res))\n",
    "\n",
    "# randomly sample\n",
    "news_sub = news.groupby('label').sample(n = 5, random_state = 7)\n",
    "\n",
    "print(\"Positive news\")\n",
    "news_title_output(news_sub, \"pos\")\n",
    "\n",
    "print(\"\\nNeutral news\")\n",
    "news_title_output(news_sub, \"neu\")\n",
    "\n",
    "print(\"\\nNegative news\")\n",
    "news_title_output(news_sub, \"neg\")"
   ]
  },
  {
   "cell_type": "code",
   "execution_count": null,
   "id": "f7ac50df",
   "metadata": {},
   "outputs": [],
   "source": [
    "text = \"Let's see how the NLTK tokenizer works!\"\n",
    "\n",
    "# using word tokenizer\n",
    "print(nltk.word_tokenize(text))\n",
    "\n",
    "# using regexp tokenizer\n",
    "tk = nltk.tokenize.RegexpTokenizer(r'\\s+', gaps=True) # split on whitespace\n",
    "print(tk.tokenize(text))\n",
    "\n",
    "tk = nltk.tokenize.RegexpTokenizer(r'\\w+') # remove punct\n",
    "print(tk.tokenize(text))"
   ]
  },
  {
   "cell_type": "code",
   "execution_count": null,
   "id": "02e83e6f",
   "metadata": {},
   "outputs": [],
   "source": [
    "stop_words = stopwords.words('english')\n",
    "print(len(stop_words))\n",
    "print(stop_words[:10])"
   ]
  },
  {
   "cell_type": "code",
   "execution_count": null,
   "id": "0bdac52e",
   "metadata": {},
   "outputs": [],
   "source": [
    "def custom_tokenize(text):\n",
    "  # remove single quote and dashes\n",
    "  text = text.replace(\"'\", \"\").replace(\"-\", \"\").lower()\n",
    "\n",
    "  # split on words only\n",
    "  tk = nltk.tokenize.RegexpTokenizer(r'\\w+')\n",
    "  tokens = tk.tokenize(text)\n",
    "\n",
    "  # remove stop words\n",
    "  words = [w for w in tokens if not w in stop_words]\n",
    "  return words\n",
    "\n",
    "print(custom_tokenize(text))"
   ]
  },
  {
   "cell_type": "code",
   "execution_count": null,
   "id": "b2e8b956",
   "metadata": {},
   "outputs": [],
   "source": [
    "def tokens_2_words(df, label):\n",
    "  # subset titles based on label\n",
    "  titles = df[df['label'] == label].title\n",
    "  # apply our custom tokenize function to each title\n",
    "  tokens = titles.apply(custom_tokenize)\n",
    "  # join nested lists into a single list\n",
    "  words = list(chain.from_iterable(tokens))\n",
    "  return words\n",
    "\n",
    "pos_words = tokens_2_words(news, 'pos')\n",
    "neg_words = tokens_2_words(news, 'neg')"
   ]
  },
  {
   "cell_type": "code",
   "execution_count": null,
   "id": "0664ef2b",
   "metadata": {},
   "outputs": [],
   "source": [
    "pos_freq = nltk.FreqDist(pos_words)\n",
    "pos_freq.most_common(20)"
   ]
  },
  {
   "cell_type": "code",
   "execution_count": null,
   "id": "558e8b56",
   "metadata": {},
   "outputs": [],
   "source": [
    "extract_sentence_from_word(news, \"facebook\", \"neg\")"
   ]
  },
  {
   "cell_type": "code",
   "execution_count": null,
   "id": "dc6308a1",
   "metadata": {},
   "outputs": [],
   "source": []
  }
 ],
 "metadata": {
  "kernelspec": {
   "display_name": "Python 3 (ipykernel)",
   "language": "python",
   "name": "python3"
  },
  "language_info": {
   "codemirror_mode": {
    "name": "ipython",
    "version": 3
   },
   "file_extension": ".py",
   "mimetype": "text/x-python",
   "name": "python",
   "nbconvert_exporter": "python",
   "pygments_lexer": "ipython3",
   "version": "3.9.12"
  }
 },
 "nbformat": 4,
 "nbformat_minor": 5
}
