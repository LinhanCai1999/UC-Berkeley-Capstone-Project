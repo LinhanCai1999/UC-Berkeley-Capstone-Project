{
 "cells": [
  {
   "cell_type": "code",
   "execution_count": 1,
   "id": "0d10ec5f",
   "metadata": {},
   "outputs": [],
   "source": [
    "import pandas as pd\n",
    "import numpy as np\n",
    "\n",
    "import matplotlib as plt\n",
    "\n",
    "%matplotlib inline"
   ]
  },
  {
   "cell_type": "code",
   "execution_count": 2,
   "id": "9fd684d1",
   "metadata": {},
   "outputs": [],
   "source": [
    "# Load the dataframe - it will be called df\n",
    "\n",
    "df = pd.read_csv(\"merged_data_new.csv\")"
   ]
  },
  {
   "cell_type": "code",
   "execution_count": 3,
   "id": "917133bf",
   "metadata": {},
   "outputs": [
    {
     "data": {
      "text/html": [
       "<div>\n",
       "<style scoped>\n",
       "    .dataframe tbody tr th:only-of-type {\n",
       "        vertical-align: middle;\n",
       "    }\n",
       "\n",
       "    .dataframe tbody tr th {\n",
       "        vertical-align: top;\n",
       "    }\n",
       "\n",
       "    .dataframe thead th {\n",
       "        text-align: right;\n",
       "    }\n",
       "</style>\n",
       "<table border=\"1\" class=\"dataframe\">\n",
       "  <thead>\n",
       "    <tr style=\"text-align: right;\">\n",
       "      <th></th>\n",
       "      <th>date_new</th>\n",
       "      <th>rating</th>\n",
       "      <th>Price</th>\n",
       "      <th>Change %</th>\n",
       "      <th>Volume</th>\n",
       "    </tr>\n",
       "  </thead>\n",
       "  <tbody>\n",
       "    <tr>\n",
       "      <th>372</th>\n",
       "      <td>14-11-2022</td>\n",
       "      <td>0.077</td>\n",
       "      <td>16,613.70</td>\n",
       "      <td>0.02</td>\n",
       "      <td>442460</td>\n",
       "    </tr>\n",
       "    <tr>\n",
       "      <th>373</th>\n",
       "      <td>15-11-2022</td>\n",
       "      <td>0.200</td>\n",
       "      <td>16,895.10</td>\n",
       "      <td>0.02</td>\n",
       "      <td>337150</td>\n",
       "    </tr>\n",
       "  </tbody>\n",
       "</table>\n",
       "</div>"
      ],
      "text/plain": [
       "       date_new  rating      Price  Change %  Volume\n",
       "372  14-11-2022   0.077  16,613.70      0.02  442460\n",
       "373  15-11-2022   0.200  16,895.10      0.02  337150"
      ]
     },
     "execution_count": 3,
     "metadata": {},
     "output_type": "execute_result"
    }
   ],
   "source": [
    "df.head(2)\n",
    "df.tail(2)"
   ]
  },
  {
   "cell_type": "code",
   "execution_count": 4,
   "id": "aa5d1c0e",
   "metadata": {},
   "outputs": [
    {
     "data": {
      "text/html": [
       "<div>\n",
       "<style scoped>\n",
       "    .dataframe tbody tr th:only-of-type {\n",
       "        vertical-align: middle;\n",
       "    }\n",
       "\n",
       "    .dataframe tbody tr th {\n",
       "        vertical-align: top;\n",
       "    }\n",
       "\n",
       "    .dataframe thead th {\n",
       "        text-align: right;\n",
       "    }\n",
       "</style>\n",
       "<table border=\"1\" class=\"dataframe\">\n",
       "  <thead>\n",
       "    <tr style=\"text-align: right;\">\n",
       "      <th></th>\n",
       "      <th>date_new</th>\n",
       "      <th>rating</th>\n",
       "      <th>Price</th>\n",
       "      <th>Change %</th>\n",
       "      <th>Volume</th>\n",
       "    </tr>\n",
       "  </thead>\n",
       "  <tbody>\n",
       "    <tr>\n",
       "      <th>369</th>\n",
       "      <td>11-11-2022</td>\n",
       "      <td>0.094</td>\n",
       "      <td>17,049.90</td>\n",
       "      <td>-0.03</td>\n",
       "      <td>466350</td>\n",
       "    </tr>\n",
       "    <tr>\n",
       "      <th>370</th>\n",
       "      <td>12-11-2022</td>\n",
       "      <td>-0.118</td>\n",
       "      <td>16,795.20</td>\n",
       "      <td>-0.01</td>\n",
       "      <td>192910</td>\n",
       "    </tr>\n",
       "    <tr>\n",
       "      <th>371</th>\n",
       "      <td>13-11-2022</td>\n",
       "      <td>-0.143</td>\n",
       "      <td>16,324.50</td>\n",
       "      <td>-0.03</td>\n",
       "      <td>210800</td>\n",
       "    </tr>\n",
       "    <tr>\n",
       "      <th>372</th>\n",
       "      <td>14-11-2022</td>\n",
       "      <td>0.077</td>\n",
       "      <td>16,613.70</td>\n",
       "      <td>0.02</td>\n",
       "      <td>442460</td>\n",
       "    </tr>\n",
       "    <tr>\n",
       "      <th>373</th>\n",
       "      <td>15-11-2022</td>\n",
       "      <td>0.200</td>\n",
       "      <td>16,895.10</td>\n",
       "      <td>0.02</td>\n",
       "      <td>337150</td>\n",
       "    </tr>\n",
       "  </tbody>\n",
       "</table>\n",
       "</div>"
      ],
      "text/plain": [
       "       date_new  rating      Price  Change %  Volume\n",
       "369  11-11-2022   0.094  17,049.90     -0.03  466350\n",
       "370  12-11-2022  -0.118  16,795.20     -0.01  192910\n",
       "371  13-11-2022  -0.143  16,324.50     -0.03  210800\n",
       "372  14-11-2022   0.077  16,613.70      0.02  442460\n",
       "373  15-11-2022   0.200  16,895.10      0.02  337150"
      ]
     },
     "execution_count": 4,
     "metadata": {},
     "output_type": "execute_result"
    }
   ],
   "source": [
    "df.tail(5)"
   ]
  },
  {
   "cell_type": "code",
   "execution_count": 5,
   "id": "b068de19",
   "metadata": {},
   "outputs": [
    {
     "data": {
      "text/plain": [
       "Index(['date_new', 'rating', 'Price', 'Change %', 'Volume'], dtype='object')"
      ]
     },
     "execution_count": 5,
     "metadata": {},
     "output_type": "execute_result"
    }
   ],
   "source": [
    "df.columns"
   ]
  },
  {
   "cell_type": "code",
   "execution_count": 6,
   "id": "151c6ca8",
   "metadata": {},
   "outputs": [
    {
     "name": "stdout",
     "output_type": "stream",
     "text": [
      "date_new     object\n",
      "rating      float64\n",
      "Price        object\n",
      "Change %    float64\n",
      "Volume        int64\n",
      "dtype: object\n"
     ]
    }
   ],
   "source": [
    "print(df.dtypes)"
   ]
  },
  {
   "cell_type": "code",
   "execution_count": 7,
   "id": "b793ab63",
   "metadata": {},
   "outputs": [],
   "source": [
    "df['Volume2'] = df['Volume'].astype(float)"
   ]
  },
  {
   "cell_type": "code",
   "execution_count": 8,
   "id": "3d441060",
   "metadata": {},
   "outputs": [
    {
     "name": "stdout",
     "output_type": "stream",
     "text": [
      "date_new     object\n",
      "rating      float64\n",
      "Price        object\n",
      "Change %    float64\n",
      "Volume        int64\n",
      "Volume2     float64\n",
      "dtype: object\n"
     ]
    }
   ],
   "source": [
    "print(df.dtypes)"
   ]
  },
  {
   "cell_type": "code",
   "execution_count": 9,
   "id": "c1b1394f",
   "metadata": {},
   "outputs": [],
   "source": [
    "df.drop('Volume', axis=1, inplace=True)"
   ]
  },
  {
   "cell_type": "code",
   "execution_count": 10,
   "id": "91a86f1b",
   "metadata": {},
   "outputs": [
    {
     "name": "stdout",
     "output_type": "stream",
     "text": [
      "date_new     object\n",
      "rating      float64\n",
      "Price        object\n",
      "Change %    float64\n",
      "Volume2     float64\n",
      "dtype: object\n"
     ]
    }
   ],
   "source": [
    "print(df.dtypes)"
   ]
  },
  {
   "cell_type": "code",
   "execution_count": 11,
   "id": "edb81e44",
   "metadata": {},
   "outputs": [],
   "source": [
    "def convert_to_float(value):\n",
    "    try:\n",
    "        return float(value.replace(',', ''))\n",
    "    except ValueError:\n",
    "        return value\n",
    "\n",
    "df['Price'] = df['Price'].apply(convert_to_float)"
   ]
  },
  {
   "cell_type": "code",
   "execution_count": 12,
   "id": "e1c8805d",
   "metadata": {},
   "outputs": [
    {
     "name": "stdout",
     "output_type": "stream",
     "text": [
      "date_new     object\n",
      "rating      float64\n",
      "Price       float64\n",
      "Change %    float64\n",
      "Volume2     float64\n",
      "dtype: object\n"
     ]
    }
   ],
   "source": [
    "print(df.dtypes)"
   ]
  },
  {
   "cell_type": "code",
   "execution_count": 13,
   "id": "b1726907",
   "metadata": {},
   "outputs": [
    {
     "data": {
      "text/html": [
       "<div>\n",
       "<style scoped>\n",
       "    .dataframe tbody tr th:only-of-type {\n",
       "        vertical-align: middle;\n",
       "    }\n",
       "\n",
       "    .dataframe tbody tr th {\n",
       "        vertical-align: top;\n",
       "    }\n",
       "\n",
       "    .dataframe thead th {\n",
       "        text-align: right;\n",
       "    }\n",
       "</style>\n",
       "<table border=\"1\" class=\"dataframe\">\n",
       "  <thead>\n",
       "    <tr style=\"text-align: right;\">\n",
       "      <th></th>\n",
       "      <th>rating</th>\n",
       "      <th>Price</th>\n",
       "      <th>Change %</th>\n",
       "      <th>Volume2</th>\n",
       "    </tr>\n",
       "  </thead>\n",
       "  <tbody>\n",
       "    <tr>\n",
       "      <th>rating</th>\n",
       "      <td>1.000000</td>\n",
       "      <td>0.043736</td>\n",
       "      <td>0.075463</td>\n",
       "      <td>0.002618</td>\n",
       "    </tr>\n",
       "    <tr>\n",
       "      <th>Price</th>\n",
       "      <td>0.043736</td>\n",
       "      <td>1.000000</td>\n",
       "      <td>0.041296</td>\n",
       "      <td>-0.344527</td>\n",
       "    </tr>\n",
       "    <tr>\n",
       "      <th>Change %</th>\n",
       "      <td>0.075463</td>\n",
       "      <td>0.041296</td>\n",
       "      <td>1.000000</td>\n",
       "      <td>-0.050543</td>\n",
       "    </tr>\n",
       "    <tr>\n",
       "      <th>Volume2</th>\n",
       "      <td>0.002618</td>\n",
       "      <td>-0.344527</td>\n",
       "      <td>-0.050543</td>\n",
       "      <td>1.000000</td>\n",
       "    </tr>\n",
       "  </tbody>\n",
       "</table>\n",
       "</div>"
      ],
      "text/plain": [
       "            rating     Price  Change %   Volume2\n",
       "rating    1.000000  0.043736  0.075463  0.002618\n",
       "Price     0.043736  1.000000  0.041296 -0.344527\n",
       "Change %  0.075463  0.041296  1.000000 -0.050543\n",
       "Volume2   0.002618 -0.344527 -0.050543  1.000000"
      ]
     },
     "execution_count": 13,
     "metadata": {},
     "output_type": "execute_result"
    }
   ],
   "source": [
    "df.corr()"
   ]
  },
  {
   "cell_type": "code",
   "execution_count": 14,
   "id": "cb1f9fa1",
   "metadata": {},
   "outputs": [
    {
     "data": {
      "text/plain": [
       "(300, 74)"
      ]
     },
     "execution_count": 14,
     "metadata": {},
     "output_type": "execute_result"
    }
   ],
   "source": [
    "bitcoin_train = df[df['date_new'] > '06-15-2022']\n",
    "bitcoin_test = df[df['date_new'] <= '06-15-2022']\n",
    "\n",
    "\n",
    "len(bitcoin_train), len(bitcoin_test)"
   ]
  },
  {
   "cell_type": "code",
   "execution_count": 15,
   "id": "8adb8030",
   "metadata": {
    "scrolled": false
   },
   "outputs": [
    {
     "name": "stdout",
     "output_type": "stream",
     "text": [
      "                            OLS Regression Results                            \n",
      "==============================================================================\n",
      "Dep. Variable:                  Price   R-squared:                       0.030\n",
      "Model:                            OLS   Adj. R-squared:                  0.027\n",
      "Method:                 Least Squares   F-statistic:                     9.173\n",
      "Date:                Thu, 23 Feb 2023   Prob (F-statistic):            0.00267\n",
      "Time:                        23:19:23   Log-Likelihood:                -3267.1\n",
      "No. Observations:                 300   AIC:                             6538.\n",
      "Df Residuals:                     298   BIC:                             6546.\n",
      "Df Model:                           1                                         \n",
      "Covariance Type:            nonrobust                                         \n",
      "==============================================================================\n",
      "                 coef    std err          t      P>|t|      [0.025      0.975]\n",
      "------------------------------------------------------------------------------\n",
      "Intercept   3.192e+04    921.457     34.635      0.000    3.01e+04    3.37e+04\n",
      "rating      1.129e+04   3727.186      3.029      0.003    3953.365    1.86e+04\n",
      "==============================================================================\n",
      "Omnibus:                       22.002   Durbin-Watson:                   0.060\n",
      "Prob(Omnibus):                  0.000   Jarque-Bera (JB):               25.464\n",
      "Skew:                           0.708   Prob(JB):                     2.95e-06\n",
      "Kurtosis:                       2.817   Cond. No.                         5.06\n",
      "==============================================================================\n",
      "\n",
      "Notes:\n",
      "[1] Standard Errors assume that the covariance matrix of the errors is correctly specified.\n"
     ]
    }
   ],
   "source": [
    "import statsmodels.formula.api as smf\n",
    "\n",
    "ols = smf.ols(formula='Price ~ rating', \n",
    "                 data=bitcoin_train)\n",
    "model1 =ols.fit()\n",
    "print(model1.summary())"
   ]
  },
  {
   "cell_type": "code",
   "execution_count": 16,
   "id": "1e4e10b5",
   "metadata": {},
   "outputs": [
    {
     "data": {
      "text/plain": [
       "-0.19570156110365566"
      ]
     },
     "execution_count": 16,
     "metadata": {},
     "output_type": "execute_result"
    }
   ],
   "source": [
    "def OSR2(model, df_train, df_test, dependent_var):   \n",
    "    y_test = df_test[dependent_var]\n",
    "    y_pred = model.predict(df_test)\n",
    "    SSE = np.sum((y_test - y_pred)**2)\n",
    "    SST = np.sum((y_test - np.mean(df_train[dependent_var]))**2)    \n",
    "    return 1 - SSE/SST\n",
    "\n",
    "OSR2(model1, bitcoin_train, bitcoin_test, 'Price')"
   ]
  },
  {
   "cell_type": "code",
   "execution_count": null,
   "id": "f824518a",
   "metadata": {},
   "outputs": [],
   "source": []
  }
 ],
 "metadata": {
  "kernelspec": {
   "display_name": "Python 3 (ipykernel)",
   "language": "python",
   "name": "python3"
  },
  "language_info": {
   "codemirror_mode": {
    "name": "ipython",
    "version": 3
   },
   "file_extension": ".py",
   "mimetype": "text/x-python",
   "name": "python",
   "nbconvert_exporter": "python",
   "pygments_lexer": "ipython3",
   "version": "3.9.15"
  }
 },
 "nbformat": 4,
 "nbformat_minor": 5
}
