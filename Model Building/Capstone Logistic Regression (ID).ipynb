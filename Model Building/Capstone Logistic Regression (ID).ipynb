{
 "cells": [
  {
   "cell_type": "code",
   "execution_count": 2,
   "id": "08090af1",
   "metadata": {},
   "outputs": [],
   "source": [
    "import numpy as np\n",
    "import pandas as pd\n",
    "import os"
   ]
  },
  {
   "cell_type": "code",
   "execution_count": 3,
   "id": "46176a60",
   "metadata": {},
   "outputs": [
    {
     "name": "stdout",
     "output_type": "stream",
     "text": [
      "<class 'pandas.core.frame.DataFrame'>\n",
      "RangeIndex: 507 entries, 0 to 506\n",
      "Data columns (total 31 columns):\n",
      " #   Column                             Non-Null Count  Dtype  \n",
      "---  ------                             --------------  -----  \n",
      " 0   Dates                              507 non-null    object \n",
      " 1   Date                               507 non-null    int64  \n",
      " 2   Bitcoin_Volume                     507 non-null    float64\n",
      " 3   Bitcoin_Price                      507 non-null    float64\n",
      " 4   Bitcoin_Price_Close                507 non-null    float64\n",
      " 5   Bitcoin_Price_Previous_Day_Open    507 non-null    float64\n",
      " 6   Bitcoin_Price_One_Week_Prior_Open  507 non-null    float64\n",
      " 7   Ethereum_Price                     507 non-null    float64\n",
      " 8   Doge_Price                         507 non-null    float64\n",
      " 9   Litecoin_Price                     507 non-null    float64\n",
      " 10  SP500                              507 non-null    float64\n",
      " 11  UST_1Y_Maturity                    507 non-null    float64\n",
      " 12  UST_10Y_Maturity                   507 non-null    float64\n",
      " 13  Crude_Oil                          507 non-null    float64\n",
      " 14  Gold                               507 non-null    float64\n",
      " 15  Copper                             507 non-null    float64\n",
      " 16  Corn                               507 non-null    float64\n",
      " 17  Singapore_Dollar                   507 non-null    float64\n",
      " 18  Euro                               507 non-null    float64\n",
      " 19  All_Twitter_Posts                  507 non-null    int64  \n",
      " 20  Positive_Tweets                    507 non-null    int64  \n",
      " 21  Negative_Tweet                     507 non-null    int64  \n",
      " 22  Neutral_Tweets                     507 non-null    int64  \n",
      " 23  Tweet_Average_Sentiment            507 non-null    float64\n",
      " 24  News_Article_Count                 507 non-null    int64  \n",
      " 25  News_Sentiment                     507 non-null    float64\n",
      " 26  Crypto_Global_Ranking              507 non-null    float64\n",
      " 27  BTC_Price_Movement_DOD_UD          507 non-null    object \n",
      " 28  BTC_Price_Movement_DOD_10          507 non-null    int64  \n",
      " 29  BTC_Price_Movement_ID_UD           507 non-null    object \n",
      " 30  BTC_Price_Movement_ID_10           507 non-null    int64  \n",
      "dtypes: float64(20), int64(8), object(3)\n",
      "memory usage: 122.9+ KB\n"
     ]
    },
    {
     "data": {
      "text/plain": [
       "(405, 102)"
      ]
     },
     "execution_count": 3,
     "metadata": {},
     "output_type": "execute_result"
    }
   ],
   "source": [
    "ID = pd.read_csv(\"Data_Master_2.csv\")\n",
    "ID.info()\n",
    "\n",
    "ID_train = ID[ID['Date'] <= 405]\n",
    "ID_test = ID[ID['Date'] > 405]\n",
    "\n",
    "len(ID_train), len(ID_test)"
   ]
  },
  {
   "cell_type": "markdown",
   "id": "400a850c",
   "metadata": {},
   "source": [
    "## Model 1"
   ]
  },
  {
   "cell_type": "code",
   "execution_count": 4,
   "id": "ede4de5b",
   "metadata": {},
   "outputs": [
    {
     "name": "stdout",
     "output_type": "stream",
     "text": [
      "Optimization terminated successfully.\n",
      "         Current function value: 0.628473\n",
      "         Iterations 6\n",
      "                              Logit Regression Results                              \n",
      "====================================================================================\n",
      "Dep. Variable:     BTC_Price_Movement_ID_10   No. Observations:                  405\n",
      "Model:                                Logit   Df Residuals:                      382\n",
      "Method:                                 MLE   Df Model:                           22\n",
      "Date:                      Thu, 27 Apr 2023   Pseudo R-squ.:                 0.09186\n",
      "Time:                              00:51:01   Log-Likelihood:                -254.53\n",
      "converged:                             True   LL-Null:                       -280.28\n",
      "Covariance Type:                  nonrobust   LLR p-value:                 0.0003669\n",
      "=====================================================================================================\n",
      "                                        coef    std err          z      P>|z|      [0.025      0.975]\n",
      "-----------------------------------------------------------------------------------------------------\n",
      "Intercept                            16.5614     30.552      0.542      0.588     -43.318      76.441\n",
      "Bitcoin_Price_Previous_Day_Open      -0.0002   4.77e-05     -4.272      0.000      -0.000      -0.000\n",
      "Bitcoin_Price_One_Week_Prior_Open  4.062e-05   4.78e-05      0.849      0.396   -5.31e-05       0.000\n",
      "Ethereum_Price                       -0.0004      0.000     -0.773      0.439      -0.001       0.001\n",
      "Doge_Price                           -1.1194      8.011     -0.140      0.889     -16.820      14.581\n",
      "Litecoin_Price                        0.0282      0.011      2.482      0.013       0.006       0.050\n",
      "SP500                                 0.0020      0.001      1.960      0.050    3.71e-07       0.004\n",
      "UST_1Y_Maturity                    -109.2652     57.361     -1.905      0.057    -221.690       3.160\n",
      "UST_10Y_Maturity                    123.5251     91.838      1.345      0.179     -56.474     303.524\n",
      "Crude_Oil                             0.0035      0.019      0.182      0.855      -0.034       0.041\n",
      "Gold                                 -0.0014      0.004     -0.383      0.701      -0.009       0.006\n",
      "Copper                                0.0442      0.620      0.071      0.943      -1.172       1.260\n",
      "Corn                                  0.2876      0.376      0.764      0.445      -0.450       1.025\n",
      "Singapore_Dollar                     -7.3495     14.649     -0.502      0.616     -36.060      21.361\n",
      "Euro                                -11.1337      9.155     -1.216      0.224     -29.078       6.810\n",
      "All_Twitter_Posts                    -0.1332      0.169     -0.787      0.431      -0.465       0.198\n",
      "Positive_Tweets                       0.1452      0.169      0.857      0.391      -0.187       0.477\n",
      "Negative_Tweet                        0.1041      0.169      0.615      0.539      -0.228       0.436\n",
      "Neutral_Tweets                        0.1337      0.169      0.790      0.429      -0.198       0.465\n",
      "Tweet_Average_Sentiment             -17.4436     15.321     -1.139      0.255     -47.472      12.585\n",
      "News_Article_Count                   -0.0064      0.007     -0.922      0.357      -0.020       0.007\n",
      "News_Sentiment                       -0.5569      2.320     -0.240      0.810      -5.104       3.991\n",
      "Crypto_Global_Ranking                 0.0085      0.011      0.753      0.452      -0.014       0.031\n",
      "=====================================================================================================\n"
     ]
    }
   ],
   "source": [
    "import statsmodels.formula.api as smf\n",
    "\n",
    "logreg1 = smf.logit(formula = 'BTC_Price_Movement_ID_10 ~ Bitcoin_Price_Previous_Day_Open + Bitcoin_Price_One_Week_Prior_Open + Ethereum_Price + Doge_Price + Litecoin_Price + SP500 + UST_1Y_Maturity + UST_10Y_Maturity + Crude_Oil + Gold + Copper + Corn + Singapore_Dollar + Euro + All_Twitter_Posts + Positive_Tweets + Negative_Tweet + Neutral_Tweets + Tweet_Average_Sentiment + News_Article_Count + News_Sentiment + Crypto_Global_Ranking',\n",
    "                   data = ID_train).fit()\n",
    "print(logreg1.summary())"
   ]
  },
  {
   "cell_type": "markdown",
   "id": "c9d8b82b",
   "metadata": {},
   "source": [
    "## Model 2 Removing Copper and Doge Price"
   ]
  },
  {
   "cell_type": "code",
   "execution_count": 5,
   "id": "97a07956",
   "metadata": {},
   "outputs": [
    {
     "name": "stdout",
     "output_type": "stream",
     "text": [
      "Optimization terminated successfully.\n",
      "         Current function value: 0.628503\n",
      "         Iterations 6\n",
      "                              Logit Regression Results                              \n",
      "====================================================================================\n",
      "Dep. Variable:     BTC_Price_Movement_ID_10   No. Observations:                  405\n",
      "Model:                                Logit   Df Residuals:                      384\n",
      "Method:                                 MLE   Df Model:                           20\n",
      "Date:                      Thu, 27 Apr 2023   Pseudo R-squ.:                 0.09182\n",
      "Time:                              00:51:03   Log-Likelihood:                -254.54\n",
      "converged:                             True   LL-Null:                       -280.28\n",
      "Covariance Type:                  nonrobust   LLR p-value:                 0.0001360\n",
      "=====================================================================================================\n",
      "                                        coef    std err          z      P>|z|      [0.025      0.975]\n",
      "-----------------------------------------------------------------------------------------------------\n",
      "Intercept                            16.4502     30.489      0.540      0.590     -43.308      76.208\n",
      "Bitcoin_Price_Previous_Day_Open      -0.0002   4.73e-05     -4.328      0.000      -0.000      -0.000\n",
      "Bitcoin_Price_One_Week_Prior_Open  3.947e-05   4.72e-05      0.836      0.403   -5.31e-05       0.000\n",
      "Ethereum_Price                       -0.0004      0.000     -0.845      0.398      -0.001       0.000\n",
      "Litecoin_Price                        0.0275      0.010      2.624      0.009       0.007       0.048\n",
      "SP500                                 0.0021      0.001      1.972      0.049    1.25e-05       0.004\n",
      "UST_1Y_Maturity                    -110.1197     57.019     -1.931      0.053    -221.874       1.635\n",
      "UST_10Y_Maturity                    123.4754     90.340      1.367      0.172     -53.588     300.539\n",
      "Crude_Oil                             0.0031      0.019      0.162      0.872      -0.034       0.040\n",
      "Gold                                 -0.0013      0.004     -0.367      0.713      -0.008       0.006\n",
      "Corn                                  0.2988      0.369      0.810      0.418      -0.424       1.022\n",
      "Singapore_Dollar                     -7.3449     14.615     -0.503      0.615     -35.990      21.301\n",
      "Euro                                -11.0471      8.406     -1.314      0.189     -27.523       5.429\n",
      "All_Twitter_Posts                    -0.1338      0.168     -0.795      0.426      -0.464       0.196\n",
      "Positive_Tweets                       0.1458      0.168      0.866      0.387      -0.184       0.476\n",
      "Negative_Tweet                        0.1046      0.168      0.621      0.534      -0.225       0.435\n",
      "Neutral_Tweets                        0.1343      0.168      0.798      0.425      -0.195       0.464\n",
      "Tweet_Average_Sentiment             -17.5989     15.276     -1.152      0.249     -47.540      12.342\n",
      "News_Article_Count                   -0.0062      0.007     -0.911      0.362      -0.020       0.007\n",
      "News_Sentiment                       -0.5768      2.315     -0.249      0.803      -5.113       3.960\n",
      "Crypto_Global_Ranking                 0.0082      0.011      0.742      0.458      -0.013       0.030\n",
      "=====================================================================================================\n"
     ]
    }
   ],
   "source": [
    "logreg2 = smf.logit(formula = 'BTC_Price_Movement_ID_10 ~ Bitcoin_Price_Previous_Day_Open + Bitcoin_Price_One_Week_Prior_Open + Ethereum_Price + Litecoin_Price + SP500 + UST_1Y_Maturity + UST_10Y_Maturity + Crude_Oil + Gold + Corn + Singapore_Dollar + Euro + All_Twitter_Posts + Positive_Tweets + Negative_Tweet + Neutral_Tweets + Tweet_Average_Sentiment + News_Article_Count + News_Sentiment + Crypto_Global_Ranking',\n",
    "                   data = ID_train).fit()\n",
    "print(logreg2.summary())"
   ]
  },
  {
   "cell_type": "markdown",
   "id": "446d99f3",
   "metadata": {},
   "source": [
    "## Model 3 Removing Crude_Oil  and News_Sentiment"
   ]
  },
  {
   "cell_type": "code",
   "execution_count": 6,
   "id": "89fe8e69",
   "metadata": {},
   "outputs": [
    {
     "name": "stdout",
     "output_type": "stream",
     "text": [
      "Optimization terminated successfully.\n",
      "         Current function value: 0.628610\n",
      "         Iterations 6\n",
      "                              Logit Regression Results                              \n",
      "====================================================================================\n",
      "Dep. Variable:     BTC_Price_Movement_ID_10   No. Observations:                  405\n",
      "Model:                                Logit   Df Residuals:                      386\n",
      "Method:                                 MLE   Df Model:                           18\n",
      "Date:                      Thu, 27 Apr 2023   Pseudo R-squ.:                 0.09167\n",
      "Time:                              00:51:04   Log-Likelihood:                -254.59\n",
      "converged:                             True   LL-Null:                       -280.28\n",
      "Covariance Type:                  nonrobust   LLR p-value:                 4.650e-05\n",
      "=====================================================================================================\n",
      "                                        coef    std err          z      P>|z|      [0.025      0.975]\n",
      "-----------------------------------------------------------------------------------------------------\n",
      "Intercept                            17.3696     29.852      0.582      0.561     -41.139      75.878\n",
      "Bitcoin_Price_Previous_Day_Open      -0.0002   4.66e-05     -4.361      0.000      -0.000      -0.000\n",
      "Bitcoin_Price_One_Week_Prior_Open   3.52e-05    4.3e-05      0.818      0.414   -4.92e-05       0.000\n",
      "Ethereum_Price                       -0.0004      0.000     -0.842      0.400      -0.001       0.000\n",
      "Litecoin_Price                        0.0275      0.010      2.638      0.008       0.007       0.048\n",
      "SP500                                 0.0020      0.001      2.112      0.035       0.000       0.004\n",
      "UST_1Y_Maturity                    -114.1324     51.829     -2.202      0.028    -215.716     -12.549\n",
      "UST_10Y_Maturity                    127.3814     85.155      1.496      0.135     -39.519     294.282\n",
      "Gold                                 -0.0010      0.003     -0.338      0.735      -0.007       0.005\n",
      "Corn                                  0.2987      0.369      0.810      0.418      -0.425       1.022\n",
      "Singapore_Dollar                     -7.8365     14.206     -0.552      0.581     -35.680      20.007\n",
      "Euro                                -11.3519      8.225     -1.380      0.168     -27.472       4.769\n",
      "All_Twitter_Posts                    -0.1319      0.168     -0.784      0.433      -0.461       0.198\n",
      "Positive_Tweets                       0.1438      0.168      0.855      0.393      -0.186       0.474\n",
      "Negative_Tweet                        0.1027      0.168      0.610      0.542      -0.227       0.433\n",
      "Neutral_Tweets                        0.1323      0.168      0.787      0.431      -0.197       0.462\n",
      "Tweet_Average_Sentiment             -17.3013     15.183     -1.140      0.254     -47.059      12.457\n",
      "News_Article_Count                   -0.0061      0.007     -0.897      0.369      -0.019       0.007\n",
      "Crypto_Global_Ranking                 0.0081      0.011      0.747      0.455      -0.013       0.029\n",
      "=====================================================================================================\n"
     ]
    }
   ],
   "source": [
    "logreg3 = smf.logit(formula = 'BTC_Price_Movement_ID_10 ~ Bitcoin_Price_Previous_Day_Open + Bitcoin_Price_One_Week_Prior_Open + Ethereum_Price + Litecoin_Price + SP500 + UST_1Y_Maturity + UST_10Y_Maturity + Gold + Corn + Singapore_Dollar + Euro + All_Twitter_Posts + Positive_Tweets + Negative_Tweet + Neutral_Tweets + Tweet_Average_Sentiment + News_Article_Count + Crypto_Global_Ranking',\n",
    "                   data = ID_train).fit()\n",
    "print(logreg3.summary())"
   ]
  },
  {
   "cell_type": "markdown",
   "id": "8c1c5f5e",
   "metadata": {},
   "source": [
    "## Model 4 Removing Gold, Singapore_Dollar, and Negative_Tweet"
   ]
  },
  {
   "cell_type": "code",
   "execution_count": 7,
   "id": "eaac6af5",
   "metadata": {},
   "outputs": [
    {
     "name": "stdout",
     "output_type": "stream",
     "text": [
      "Optimization terminated successfully.\n",
      "         Current function value: 0.629443\n",
      "         Iterations 6\n",
      "                              Logit Regression Results                              \n",
      "====================================================================================\n",
      "Dep. Variable:     BTC_Price_Movement_ID_10   No. Observations:                  405\n",
      "Model:                                Logit   Df Residuals:                      389\n",
      "Method:                                 MLE   Df Model:                           15\n",
      "Date:                      Thu, 27 Apr 2023   Pseudo R-squ.:                 0.09046\n",
      "Time:                              00:51:05   Log-Likelihood:                -254.92\n",
      "converged:                             True   LL-Null:                       -280.28\n",
      "Covariance Type:                  nonrobust   LLR p-value:                 9.218e-06\n",
      "=====================================================================================================\n",
      "                                        coef    std err          z      P>|z|      [0.025      0.975]\n",
      "-----------------------------------------------------------------------------------------------------\n",
      "Intercept                             0.8152      6.193      0.132      0.895     -11.324      12.954\n",
      "Bitcoin_Price_Previous_Day_Open      -0.0002   4.59e-05     -4.526      0.000      -0.000      -0.000\n",
      "Bitcoin_Price_One_Week_Prior_Open  3.586e-05    4.3e-05      0.834      0.404   -4.84e-05       0.000\n",
      "Ethereum_Price                       -0.0004      0.000     -0.951      0.342      -0.001       0.000\n",
      "Litecoin_Price                        0.0277      0.010      2.661      0.008       0.007       0.048\n",
      "SP500                                 0.0021      0.001      2.421      0.015       0.000       0.004\n",
      "UST_1Y_Maturity                    -110.4987     50.607     -2.183      0.029    -209.686     -11.312\n",
      "UST_10Y_Maturity                    129.0443     79.897      1.615      0.106     -27.551     285.640\n",
      "Corn                                  0.2293      0.250      0.918      0.359      -0.260       0.719\n",
      "Euro                                 -7.6363      4.447     -1.717      0.086     -16.353       1.080\n",
      "All_Twitter_Posts                    -0.0294      0.008     -3.850      0.000      -0.044      -0.014\n",
      "Positive_Tweets                       0.0414      0.011      3.936      0.000       0.021       0.062\n",
      "Neutral_Tweets                        0.0300      0.008      3.757      0.000       0.014       0.046\n",
      "Tweet_Average_Sentiment             -16.8695     15.091     -1.118      0.264     -46.447      12.708\n",
      "News_Article_Count                   -0.0059      0.007     -0.871      0.384      -0.019       0.007\n",
      "Crypto_Global_Ranking                 0.0080      0.011      0.741      0.459      -0.013       0.029\n",
      "=====================================================================================================\n"
     ]
    }
   ],
   "source": [
    "logreg4 = smf.logit(formula = 'BTC_Price_Movement_ID_10 ~ Bitcoin_Price_Previous_Day_Open + Bitcoin_Price_One_Week_Prior_Open + Ethereum_Price + Litecoin_Price + SP500 + UST_1Y_Maturity + UST_10Y_Maturity + Corn + Euro + All_Twitter_Posts + Positive_Tweets + Neutral_Tweets + Tweet_Average_Sentiment + News_Article_Count + Crypto_Global_Ranking',\n",
    "                   data = ID_train).fit()\n",
    "print(logreg4.summary())"
   ]
  },
  {
   "cell_type": "markdown",
   "id": "37c4ec01",
   "metadata": {},
   "source": [
    "## Model 5 Removing Crypto_Global_Ranking "
   ]
  },
  {
   "cell_type": "code",
   "execution_count": 8,
   "id": "5115bb4a",
   "metadata": {},
   "outputs": [
    {
     "name": "stdout",
     "output_type": "stream",
     "text": [
      "Optimization terminated successfully.\n",
      "         Current function value: 0.630121\n",
      "         Iterations 6\n",
      "                              Logit Regression Results                              \n",
      "====================================================================================\n",
      "Dep. Variable:     BTC_Price_Movement_ID_10   No. Observations:                  405\n",
      "Model:                                Logit   Df Residuals:                      390\n",
      "Method:                                 MLE   Df Model:                           14\n",
      "Date:                      Thu, 27 Apr 2023   Pseudo R-squ.:                 0.08948\n",
      "Time:                              00:51:06   Log-Likelihood:                -255.20\n",
      "converged:                             True   LL-Null:                       -280.28\n",
      "Covariance Type:                  nonrobust   LLR p-value:                 5.742e-06\n",
      "=====================================================================================================\n",
      "                                        coef    std err          z      P>|z|      [0.025      0.975]\n",
      "-----------------------------------------------------------------------------------------------------\n",
      "Intercept                             0.7779      6.188      0.126      0.900     -11.351      12.907\n",
      "Bitcoin_Price_Previous_Day_Open      -0.0002   4.57e-05     -4.610      0.000      -0.000      -0.000\n",
      "Bitcoin_Price_One_Week_Prior_Open  4.217e-05   4.21e-05      1.001      0.317   -4.04e-05       0.000\n",
      "Ethereum_Price                       -0.0004      0.000     -1.041      0.298      -0.001       0.000\n",
      "Litecoin_Price                        0.0292      0.010      2.851      0.004       0.009       0.049\n",
      "SP500                                 0.0021      0.001      2.411      0.016       0.000       0.004\n",
      "UST_1Y_Maturity                    -110.8591     50.542     -2.193      0.028    -209.920     -11.798\n",
      "UST_10Y_Maturity                    126.1869     79.570      1.586      0.113     -29.767     282.141\n",
      "Corn                                  0.1924      0.244      0.788      0.430      -0.286       0.671\n",
      "Euro                                 -7.0344      4.369     -1.610      0.107     -15.598       1.529\n",
      "All_Twitter_Posts                    -0.0296      0.008     -3.886      0.000      -0.045      -0.015\n",
      "Positive_Tweets                       0.0415      0.010      3.953      0.000       0.021       0.062\n",
      "Neutral_Tweets                        0.0303      0.008      3.798      0.000       0.015       0.046\n",
      "Tweet_Average_Sentiment             -17.2658     15.052     -1.147      0.251     -46.767      12.235\n",
      "News_Article_Count                   -0.0054      0.007     -0.812      0.417      -0.019       0.008\n",
      "=====================================================================================================\n"
     ]
    }
   ],
   "source": [
    "logreg5 = smf.logit(formula = 'BTC_Price_Movement_ID_10 ~ Bitcoin_Price_Previous_Day_Open + Bitcoin_Price_One_Week_Prior_Open + Ethereum_Price + Litecoin_Price + SP500 + UST_1Y_Maturity + UST_10Y_Maturity + Corn + Euro + All_Twitter_Posts + Positive_Tweets + Neutral_Tweets + Tweet_Average_Sentiment + News_Article_Count',\n",
    "                   data = ID_train).fit()\n",
    "print(logreg5.summary())"
   ]
  },
  {
   "cell_type": "markdown",
   "id": "9a394fd1",
   "metadata": {},
   "source": [
    "## Model 6 Removing Corn"
   ]
  },
  {
   "cell_type": "code",
   "execution_count": 9,
   "id": "118d5301",
   "metadata": {},
   "outputs": [
    {
     "name": "stdout",
     "output_type": "stream",
     "text": [
      "Optimization terminated successfully.\n",
      "         Current function value: 0.630888\n",
      "         Iterations 6\n",
      "                              Logit Regression Results                              \n",
      "====================================================================================\n",
      "Dep. Variable:     BTC_Price_Movement_ID_10   No. Observations:                  405\n",
      "Model:                                Logit   Df Residuals:                      391\n",
      "Method:                                 MLE   Df Model:                           13\n",
      "Date:                      Thu, 27 Apr 2023   Pseudo R-squ.:                 0.08837\n",
      "Time:                              00:51:07   Log-Likelihood:                -255.51\n",
      "converged:                             True   LL-Null:                       -280.28\n",
      "Covariance Type:                  nonrobust   LLR p-value:                 3.577e-06\n",
      "=====================================================================================================\n",
      "                                        coef    std err          z      P>|z|      [0.025      0.975]\n",
      "-----------------------------------------------------------------------------------------------------\n",
      "Intercept                             0.9906      6.194      0.160      0.873     -11.148      13.130\n",
      "Bitcoin_Price_Previous_Day_Open      -0.0002   4.57e-05     -4.657      0.000      -0.000      -0.000\n",
      "Bitcoin_Price_One_Week_Prior_Open  4.611e-05   4.18e-05      1.103      0.270   -3.58e-05       0.000\n",
      "Ethereum_Price                       -0.0004      0.000     -0.870      0.384      -0.001       0.000\n",
      "Litecoin_Price                        0.0265      0.010      2.775      0.006       0.008       0.045\n",
      "SP500                                 0.0022      0.001      2.449      0.014       0.000       0.004\n",
      "UST_1Y_Maturity                    -127.1968     46.247     -2.750      0.006    -217.839     -36.554\n",
      "UST_10Y_Maturity                    162.3110     65.642      2.473      0.013      33.655     290.967\n",
      "Euro                                 -6.7715      4.352     -1.556      0.120     -15.301       1.758\n",
      "All_Twitter_Posts                    -0.0301      0.008     -3.968      0.000      -0.045      -0.015\n",
      "Positive_Tweets                       0.0416      0.010      3.973      0.000       0.021       0.062\n",
      "Neutral_Tweets                        0.0311      0.008      3.936      0.000       0.016       0.047\n",
      "Tweet_Average_Sentiment             -17.2399     14.968     -1.152      0.249     -46.576      12.096\n",
      "News_Article_Count                   -0.0044      0.007     -0.673      0.501      -0.017       0.008\n",
      "=====================================================================================================\n"
     ]
    }
   ],
   "source": [
    "logreg6 = smf.logit(formula = 'BTC_Price_Movement_ID_10 ~ Bitcoin_Price_Previous_Day_Open + Bitcoin_Price_One_Week_Prior_Open + Ethereum_Price + Litecoin_Price + SP500 + UST_1Y_Maturity + UST_10Y_Maturity + Euro + All_Twitter_Posts + Positive_Tweets + Neutral_Tweets + Tweet_Average_Sentiment + News_Article_Count',\n",
    "                   data = ID_train).fit()\n",
    "print(logreg6.summary())"
   ]
  },
  {
   "cell_type": "markdown",
   "id": "d03bef1e",
   "metadata": {},
   "source": [
    "## Model 7 Removing News_Article_Count"
   ]
  },
  {
   "cell_type": "code",
   "execution_count": 10,
   "id": "03ce1dff",
   "metadata": {},
   "outputs": [
    {
     "name": "stdout",
     "output_type": "stream",
     "text": [
      "Optimization terminated successfully.\n",
      "         Current function value: 0.631447\n",
      "         Iterations 6\n",
      "                              Logit Regression Results                              \n",
      "====================================================================================\n",
      "Dep. Variable:     BTC_Price_Movement_ID_10   No. Observations:                  405\n",
      "Model:                                Logit   Df Residuals:                      392\n",
      "Method:                                 MLE   Df Model:                           12\n",
      "Date:                      Thu, 27 Apr 2023   Pseudo R-squ.:                 0.08756\n",
      "Time:                              00:51:08   Log-Likelihood:                -255.74\n",
      "converged:                             True   LL-Null:                       -280.28\n",
      "Covariance Type:                  nonrobust   LLR p-value:                 2.021e-06\n",
      "=====================================================================================================\n",
      "                                        coef    std err          z      P>|z|      [0.025      0.975]\n",
      "-----------------------------------------------------------------------------------------------------\n",
      "Intercept                             1.2030      6.174      0.195      0.846     -10.898      13.304\n",
      "Bitcoin_Price_Previous_Day_Open      -0.0002   4.56e-05     -4.635      0.000      -0.000      -0.000\n",
      "Bitcoin_Price_One_Week_Prior_Open  4.772e-05   4.16e-05      1.146      0.252   -3.39e-05       0.000\n",
      "Ethereum_Price                       -0.0004      0.000     -0.893      0.372      -0.001       0.000\n",
      "Litecoin_Price                        0.0275      0.009      2.906      0.004       0.009       0.046\n",
      "SP500                                 0.0021      0.001      2.420      0.016       0.000       0.004\n",
      "UST_1Y_Maturity                    -125.6329     46.156     -2.722      0.006    -216.097     -35.169\n",
      "UST_10Y_Maturity                    158.0754     65.253      2.422      0.015      30.181     285.970\n",
      "Euro                                 -7.0615      4.326     -1.632      0.103     -15.540       1.417\n",
      "All_Twitter_Posts                    -0.0299      0.008     -3.950      0.000      -0.045      -0.015\n",
      "Positive_Tweets                       0.0411      0.010      3.951      0.000       0.021       0.061\n",
      "Neutral_Tweets                        0.0308      0.008      3.918      0.000       0.015       0.046\n",
      "Tweet_Average_Sentiment             -16.8707     14.870     -1.135      0.257     -46.016      12.275\n",
      "=====================================================================================================\n"
     ]
    }
   ],
   "source": [
    "logreg7 = smf.logit(formula = 'BTC_Price_Movement_ID_10 ~ Bitcoin_Price_Previous_Day_Open + Bitcoin_Price_One_Week_Prior_Open + Ethereum_Price + Litecoin_Price + SP500 + UST_1Y_Maturity + UST_10Y_Maturity + Euro + All_Twitter_Posts + Positive_Tweets + Neutral_Tweets + Tweet_Average_Sentiment',\n",
    "                   data = ID_train).fit()\n",
    "print(logreg7.summary())"
   ]
  },
  {
   "cell_type": "code",
   "execution_count": 11,
   "id": "c4743554",
   "metadata": {},
   "outputs": [
    {
     "name": "stdout",
     "output_type": "stream",
     "text": [
      "Optimization terminated successfully.\n",
      "         Current function value: 0.635994\n",
      "         Iterations 6\n",
      "                              Logit Regression Results                              \n",
      "====================================================================================\n",
      "Dep. Variable:     BTC_Price_Movement_ID_10   No. Observations:                  405\n",
      "Model:                                Logit   Df Residuals:                      395\n",
      "Method:                                 MLE   Df Model:                            9\n",
      "Date:                      Thu, 27 Apr 2023   Pseudo R-squ.:                 0.08099\n",
      "Time:                              00:51:10   Log-Likelihood:                -257.58\n",
      "converged:                             True   LL-Null:                       -280.28\n",
      "Covariance Type:                  nonrobust   LLR p-value:                 7.773e-07\n",
      "===================================================================================================\n",
      "                                      coef    std err          z      P>|z|      [0.025      0.975]\n",
      "---------------------------------------------------------------------------------------------------\n",
      "Intercept                           1.6256      5.572      0.292      0.770      -9.295      12.546\n",
      "Bitcoin_Price_Previous_Day_Open    -0.0002   3.31e-05     -5.182      0.000      -0.000      -0.000\n",
      "Litecoin_Price                      0.0225      0.006      3.747      0.000       0.011       0.034\n",
      "SP500                               0.0021      0.001      2.480      0.013       0.000       0.004\n",
      "UST_1Y_Maturity                  -132.7507     43.068     -3.082      0.002    -217.163     -48.339\n",
      "UST_10Y_Maturity                  163.9764     61.787      2.654      0.008      42.875     285.078\n",
      "Euro                               -8.5906      4.040     -2.126      0.033     -16.509      -0.673\n",
      "All_Twitter_Posts                  -0.0231      0.006     -3.889      0.000      -0.035      -0.011\n",
      "Positive_Tweets                     0.0320      0.008      4.207      0.000       0.017       0.047\n",
      "Neutral_Tweets                      0.0244      0.007      3.668      0.000       0.011       0.037\n",
      "===================================================================================================\n"
     ]
    }
   ],
   "source": [
    "logreg8 = smf.logit(formula = 'BTC_Price_Movement_ID_10 ~ Bitcoin_Price_Previous_Day_Open + Litecoin_Price + SP500 + UST_1Y_Maturity + UST_10Y_Maturity + Euro + All_Twitter_Posts + Positive_Tweets + Neutral_Tweets',\n",
    "                   data = ID_train).fit()\n",
    "print(logreg8.summary())"
   ]
  },
  {
   "cell_type": "code",
   "execution_count": 12,
   "id": "f80694d5",
   "metadata": {},
   "outputs": [
    {
     "data": {
      "text/plain": [
       "405    0\n",
       "406    0\n",
       "407    0\n",
       "408    1\n",
       "409    0\n",
       "      ..\n",
       "502    0\n",
       "503    0\n",
       "504    0\n",
       "505    0\n",
       "506    0\n",
       "Length: 102, dtype: int64"
      ]
     },
     "execution_count": 12,
     "metadata": {},
     "output_type": "execute_result"
    }
   ],
   "source": [
    "y_prob = logreg8.predict(ID_test)\n",
    "y_pred = pd.Series([1 if x > 0.5 else 0 for x in y_prob], index=y_prob.index)\n",
    "y_test = ID_test['BTC_Price_Movement_ID_10']\n",
    "y_pred"
   ]
  },
  {
   "cell_type": "code",
   "execution_count": 13,
   "id": "43efc4ca",
   "metadata": {},
   "outputs": [
    {
     "name": "stdout",
     "output_type": "stream",
     "text": [
      "Mean Square Error: 0.4411764705882353\n"
     ]
    }
   ],
   "source": [
    "def mae(x_tr, x_pr):\n",
    "    diff = x_tr - x_pr\n",
    "    return np.mean(np.abs(diff))\n",
    "\n",
    "mse = mae(y_test, y_pred)\n",
    "print(\"Mean Square Error:\", mse)"
   ]
  },
  {
   "cell_type": "code",
   "execution_count": 14,
   "id": "4abf1b65",
   "metadata": {},
   "outputs": [
    {
     "name": "stdout",
     "output_type": "stream",
     "text": [
      "Confusion Matrix : \n",
      " [[51  2]\n",
      " [43  6]]\n"
     ]
    }
   ],
   "source": [
    "from sklearn.metrics import confusion_matrix\n",
    "\n",
    "cm = confusion_matrix(y_test, y_pred)\n",
    "print (\"Confusion Matrix : \\n\", cm) "
   ]
  },
  {
   "cell_type": "code",
   "execution_count": 15,
   "id": "3264a074",
   "metadata": {},
   "outputs": [
    {
     "data": {
      "text/plain": [
       "0.5588235294117647"
      ]
     },
     "execution_count": 15,
     "metadata": {},
     "output_type": "execute_result"
    }
   ],
   "source": [
    "(cm.ravel()[0]+cm.ravel()[3])/sum(cm.ravel())  # T/total = (TP+TN)/total"
   ]
  },
  {
   "cell_type": "code",
   "execution_count": 16,
   "id": "eb6d685a",
   "metadata": {},
   "outputs": [
    {
     "data": {
      "image/png": "[encoded data removed]",
      "text/plain": [
       "<Figure size 800x600 with 1 Axes>"
      ]
     },
     "metadata": {},
     "output_type": "display_data"
    }
   ],
   "source": [
    "import matplotlib.pyplot as plt\n",
    "from sklearn.metrics import roc_curve, auc\n",
    "\n",
    "fpr, tpr, _ = roc_curve(y_test, y_prob)\n",
    "roc_auc = auc(fpr, tpr)\n",
    "\n",
    "plt.figure(figsize=(8, 6))\n",
    "plt.title('ROC Curve', fontsize=14)\n",
    "plt.xlabel('FPR', fontsize=16)\n",
    "plt.ylabel('TPR', fontsize=16)\n",
    "plt.xlim([-0.01, 1.00])\n",
    "plt.ylim([-0.01, 1.01])\n",
    "plt.plot(fpr, tpr, lw=3, label='Logistic Regression (area = {:0.2f})'.format(roc_auc))\n",
    "plt.plot([0, 1], [0, 1], color='navy', lw=3, linestyle='--', label='Naive Baseline (area = 0.50)')\n",
    "plt.legend(loc='lower right', fontsize=14)\n",
    "plt.show()"
   ]
  },
  {
   "cell_type": "code",
   "execution_count": null,
   "id": "c02fabec",
   "metadata": {},
   "outputs": [],
   "source": []
  }
 ],
 "metadata": {
  "kernelspec": {
   "display_name": "Python 3 (ipykernel)",
   "language": "python",
   "name": "python3"
  },
  "language_info": {
   "codemirror_mode": {
    "name": "ipython",
    "version": 3
   },
   "file_extension": ".py",
   "mimetype": "text/x-python",
   "name": "python",
   "nbconvert_exporter": "python",
   "pygments_lexer": "ipython3",
   "version": "3.9.13"
  }
 },
 "nbformat": 4,
 "nbformat_minor": 5
}
